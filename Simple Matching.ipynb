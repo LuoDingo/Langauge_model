{
 "cells": [
  {
   "cell_type": "code",
   "execution_count": 3,
   "metadata": {},
   "outputs": [],
   "source": [
    "url='https://raw.githubusercontent.com/box-key/Luodingo/master/Datasets/data_tolokers.csv'"
   ]
  },
  {
   "cell_type": "code",
   "execution_count": 4,
   "metadata": {},
   "outputs": [],
   "source": [
    "# Imports\n",
    "import pandas as pd\n",
    "import numpy as np\n",
    "import nltk"
   ]
  },
  {
   "cell_type": "code",
   "execution_count": 5,
   "metadata": {},
   "outputs": [
    {
     "data": {
      "text/plain": [
       "(51409, 1)"
      ]
     },
     "execution_count": 5,
     "metadata": {},
     "output_type": "execute_result"
    }
   ],
   "source": [
    "from io import StringIO\n",
    "import requests\n",
    "\n",
    "content=requests.get(url).content\n",
    "df=pd.read_csv(StringIO(content.decode('utf-8')), header=None, index_col=0, names=['text'])\n",
    "df.shape"
   ]
  },
  {
   "cell_type": "code",
   "execution_count": 14,
   "metadata": {},
   "outputs": [],
   "source": [
    "# Functions\n",
    "from itertools import combinations\n",
    "def takeKeywords():\n",
    "    keywords = input(\"Enter keywords separated by space: \")\n",
    "    return keywords.split(\" \")\n",
    "\n",
    "def getCandidates(keywords, df, threshold):\n",
    "    size = len(keywords)\n",
    "    # Store sentences that contain keywords\n",
    "    df_return = pd.DataFrame([])\n",
    "    \n",
    "    # Repeat the process until df_return contains more examples than threshold\n",
    "    # Or finish searching the sentence\n",
    "    while (df_return.shape[0] <= threshold) and (size>0):\n",
    "        for query in getQueryCombinations(keywords, size):\n",
    "            # Get all the sentences contains all words in a combination, but not exist in output candidates\n",
    "            df_return = df[df['text'].str.contains(query) & ~df.index.isin(df_return.index)]\n",
    "        size -= 1\n",
    "\n",
    "    return df_return\n",
    "\n",
    "def getQueryCombinations(keywords, r):\n",
    "    queries = []\n",
    "    # Generate all comibnations of size r in keywords\n",
    "    for i in combinations(keywords, r):\n",
    "        queries.append(getQuery(i))\n",
    "    return queries\n",
    "\n",
    "def getQuery(combinations):\n",
    "    query = \"\"\n",
    "    # (?=.*word1)(?=.*word2) is equivalent to word1&word2 in regex\n",
    "    for word in combinations:\n",
    "        query += '(?=.*' + word + ')'\n",
    "    return query"
   ]
  },
  {
   "cell_type": "code",
   "execution_count": 15,
   "metadata": {
    "scrolled": true
   },
   "outputs": [
    {
     "name": "stdout",
     "output_type": "stream",
     "text": [
      "Enter keywords separated by space: what you interest\n",
      "(0, 0)\n"
     ]
    },
    {
     "data": {
      "text/html": [
       "<div>\n",
       "<style scoped>\n",
       "    .dataframe tbody tr th:only-of-type {\n",
       "        vertical-align: middle;\n",
       "    }\n",
       "\n",
       "    .dataframe tbody tr th {\n",
       "        vertical-align: top;\n",
       "    }\n",
       "\n",
       "    .dataframe thead th {\n",
       "        text-align: right;\n",
       "    }\n",
       "</style>\n",
       "<table border=\"1\" class=\"dataframe\">\n",
       "  <thead>\n",
       "    <tr style=\"text-align: right;\">\n",
       "      <th></th>\n",
       "      <th>text</th>\n",
       "    </tr>\n",
       "  </thead>\n",
       "  <tbody>\n",
       "    <tr>\n",
       "      <th>14328</th>\n",
       "      <td>interesting   what parts of the world have you...</td>\n",
       "    </tr>\n",
       "    <tr>\n",
       "      <th>18412</th>\n",
       "      <td>that sounds really interesting   what do you s...</td>\n",
       "    </tr>\n",
       "    <tr>\n",
       "      <th>20324</th>\n",
       "      <td>that sounds really interesting   what do you s...</td>\n",
       "    </tr>\n",
       "    <tr>\n",
       "      <th>23500</th>\n",
       "      <td>what are you interested in</td>\n",
       "    </tr>\n",
       "    <tr>\n",
       "      <th>41666</th>\n",
       "      <td>whats yours interests</td>\n",
       "    </tr>\n",
       "    <tr>\n",
       "      <th>41771</th>\n",
       "      <td>what are you interested in?</td>\n",
       "    </tr>\n",
       "    <tr>\n",
       "      <th>51190</th>\n",
       "      <td>what interests do you have ?</td>\n",
       "    </tr>\n",
       "  </tbody>\n",
       "</table>\n",
       "</div>"
      ],
      "text/plain": [
       "                                                    text\n",
       "14328  interesting   what parts of the world have you...\n",
       "18412  that sounds really interesting   what do you s...\n",
       "20324  that sounds really interesting   what do you s...\n",
       "23500                         what are you interested in\n",
       "41666                              whats yours interests\n",
       "41771                        what are you interested in?\n",
       "51190                       what interests do you have ?"
      ]
     },
     "execution_count": 15,
     "metadata": {},
     "output_type": "execute_result"
    }
   ],
   "source": [
    "# Usage\n",
    "keywords = takeKeywords()\n",
    "getCandidates(keywords, df, threshold=3)"
   ]
  },
  {
   "cell_type": "code",
   "execution_count": 93,
   "metadata": {},
   "outputs": [
    {
     "data": {
      "text/html": [
       "<div>\n",
       "<style scoped>\n",
       "    .dataframe tbody tr th:only-of-type {\n",
       "        vertical-align: middle;\n",
       "    }\n",
       "\n",
       "    .dataframe tbody tr th {\n",
       "        vertical-align: top;\n",
       "    }\n",
       "\n",
       "    .dataframe thead th {\n",
       "        text-align: right;\n",
       "    }\n",
       "</style>\n",
       "<table border=\"1\" class=\"dataframe\">\n",
       "  <thead>\n",
       "    <tr style=\"text-align: right;\">\n",
       "      <th></th>\n",
       "      <th>text</th>\n",
       "    </tr>\n",
       "  </thead>\n",
       "  <tbody>\n",
       "  </tbody>\n",
       "</table>\n",
       "</div>"
      ],
      "text/plain": [
       "Empty DataFrame\n",
       "Columns: [text]\n",
       "Index: []"
      ]
     },
     "execution_count": 93,
     "metadata": {},
     "output_type": "execute_result"
    }
   ],
   "source": [
    "# Debugging\n",
    "\n",
    "# takeKeywords()\n",
    "\n",
    "# query = \"\"\n",
    "# for word in ['love','animal','dog']:\n",
    "#     query += '(?=.*' + word + ')'\n",
    "\n",
    "# print(query)\n",
    "# # df[df['text'].str.contains('(?=.*love)(?=.*iphone)')]\n",
    "# df[df['text'].str.contains(query)]\n",
    "\n",
    "# from itertools import combinations \n",
    "\n",
    "# for i in combinations(['love', 'animal', 'dog'], 2):\n",
    "#     query = \"\"\n",
    "#     for word in i:\n",
    "#         query += '(?=.*' + word + ')'\n",
    "#     print(query)\n",
    "\n",
    "# df_m = pd.DataFrame()\n",
    "# for query in getQueryCombinations(['love', 'iphone', 'animal'], 2):\n",
    "#     df_return = df[df['text'].str.contains(query)]\n",
    "#     print(df_return.shape)\n",
    "#     print(query)\n",
    "#     df_m = pd.concat([df_m, df_return], axis=0).drop_duplicates().reset_index(drop=True)\n",
    "# df_m\n",
    "\n",
    "# df[df['text'].str.contains('(?=.*your)(?=.*yesterday)')]"
   ]
  },
  {
   "cell_type": "code",
   "execution_count": null,
   "metadata": {},
   "outputs": [],
   "source": []
  }
 ],
 "metadata": {
  "kernelspec": {
   "display_name": "Python 3",
   "language": "python",
   "name": "python3"
  },
  "language_info": {
   "codemirror_mode": {
    "name": "ipython",
    "version": 3
   },
   "file_extension": ".py",
   "mimetype": "text/x-python",
   "name": "python",
   "nbconvert_exporter": "python",
   "pygments_lexer": "ipython3",
   "version": "3.7.3"
  }
 },
 "nbformat": 4,
 "nbformat_minor": 2
}
