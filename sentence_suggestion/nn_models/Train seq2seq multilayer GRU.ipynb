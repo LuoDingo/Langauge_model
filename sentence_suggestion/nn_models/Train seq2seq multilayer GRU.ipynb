{
 "cells": [
  {
   "cell_type": "code",
   "execution_count": 11,
   "metadata": {},
   "outputs": [
    {
     "name": "stdout",
     "output_type": "stream",
     "text": [
      "The autoreload extension is already loaded. To reload it, use:\n",
      "  %reload_ext autoreload\n"
     ]
    }
   ],
   "source": [
    "import torch \n",
    "import torch.optim as optim\n",
    "\n",
    "import seq2seq_multilayer_gru\n",
    "from sequence_model_trainer import TrainModel\n",
    "\n",
    "from torchtext.data import Field, LabelField\n",
    "from torchtext.data import TabularDataset\n",
    "from torchtext.data import Iterator, BucketIterator\n",
    "\n",
    "%load_ext autoreload\n",
    "%autoreload 2"
   ]
  },
  {
   "cell_type": "code",
   "execution_count": 2,
   "metadata": {},
   "outputs": [],
   "source": [
    "MASKED_TEXT = Field(\n",
    "                sequential=True,\n",
    "                tokenize=lambda x: x.split(), \n",
    "             )\n",
    "\n",
    "TARGET_TEXT = Field(\n",
    "                sequential=True,\n",
    "                tokenize=lambda x: x.split(), \n",
    "             )\n",
    "\n",
    "# LABEL = LabelField(dtype=torch.long)\n",
    "\n",
    "fields = [('id', None), ('keywords', MASKED_TEXT), ('target', TARGET_TEXT)]"
   ]
  },
  {
   "cell_type": "code",
   "execution_count": 3,
   "metadata": {},
   "outputs": [],
   "source": [
    "# %cd /content/gdrive/My\\ Drive/Colab\\ Notebooks/Datasets\n",
    "train, val, test = TabularDataset.splits(\n",
    "                            path='C:\\\\Users\\\\under\\\\Datasets\\\\Conversations\\\\Microsoft Challenge\\\\Masked Corpus',\n",
    "                            train='train.csv',\n",
    "                            validation='val.csv',\n",
    "                            test='test.csv',\n",
    "                            format='csv',\n",
    "                            skip_header=True,\n",
    "                            fields=fields\n",
    "                    )"
   ]
  },
  {
   "cell_type": "code",
   "execution_count": 4,
   "metadata": {},
   "outputs": [],
   "source": [
    "MASKED_TEXT.build_vocab(train)\n",
    "TARGET_TEXT.build_vocab(train)\n",
    "# LABEL.build_vocab(train)"
   ]
  },
  {
   "cell_type": "code",
   "execution_count": 5,
   "metadata": {},
   "outputs": [],
   "source": [
    "BATCH_SIZE = 128\n",
    "\n",
    "device = torch.device('cuda' if torch.cuda.is_available() else 'cpu')\n",
    "\n",
    "train_iter, val_iter, test_iter = BucketIterator.splits(\n",
    "                            (train, val, test),\n",
    "                            batch_size=BATCH_SIZE,\n",
    "                            device=device,\n",
    "                            sort_key=lambda x: len(x.keywords))"
   ]
  },
  {
   "cell_type": "code",
   "execution_count": 12,
   "metadata": {},
   "outputs": [],
   "source": [
    "# EMB_DIM=bert.config.to_dict()['hidden_size']\n",
    "EMB_DIM=256\n",
    "ENC_INPUT_DIM=len(MASKED_TEXT.vocab)\n",
    "DEC_INPUT_DIM=len(TARGET_TEXT.vocab)\n",
    "OUTPUT_DIM=DEC_INPUT_DIM\n",
    "N_LAYER=4\n",
    "HID_DIM=1024\n",
    "DROPOUT=0.2\n",
    "\n",
    "model = seq2seq_multilayer_gru.Seq2Seq(\n",
    "              enc_input_dim=ENC_INPUT_DIM,\n",
    "              dec_input_dim=DEC_INPUT_DIM,\n",
    "              emb_dim=EMB_DIM,\n",
    "              enc_hid_dim=HID_DIM,\n",
    "              dec_hid_dim=HID_DIM,\n",
    "              n_layers=N_LAYER,\n",
    "              output_dim=OUTPUT_DIM,    \n",
    "              device=device,\n",
    "              dropout=DROPOUT\n",
    "         ).to(device)"
   ]
  },
  {
   "cell_type": "code",
   "execution_count": 13,
   "metadata": {},
   "outputs": [],
   "source": [
    "LEARNING_RATE = 0.0001\n",
    "\n",
    "adam = torch.optim.Adam(model.parameters(), lr=LEARNING_RATE)\n",
    "cross_e = torch.nn.CrossEntropyLoss()"
   ]
  },
  {
   "cell_type": "code",
   "execution_count": 14,
   "metadata": {},
   "outputs": [],
   "source": [
    "trainer = TrainModel(\n",
    "            model=model,\n",
    "            train_iterator=train_iter,\n",
    "            val_iterator=val_iter,\n",
    "            optimizer=adam,\n",
    "            criterion=cross_e,\n",
    "            output_dim=OUTPUT_DIM\n",
    "          )"
   ]
  },
  {
   "cell_type": "code",
   "execution_count": 15,
   "metadata": {},
   "outputs": [
    {
     "name": "stdout",
     "output_type": "stream",
     "text": [
      "Seq2Seq hidden: torch.Size([4, 128, 1024])\n",
      "Seq2Seq hidden: torch.Size([4, 128, 1024])\n",
      "Seq2Seq hidden: torch.Size([4, 128, 1024])\n",
      "Seq2Seq hidden: torch.Size([4, 128, 1024])\n",
      "Seq2Seq hidden: torch.Size([4, 128, 1024])\n",
      "Seq2Seq hidden: torch.Size([4, 128, 1024])\n",
      "Seq2Seq hidden: torch.Size([4, 128, 1024])\n",
      "Seq2Seq hidden: torch.Size([4, 128, 1024])\n",
      "Seq2Seq hidden: torch.Size([4, 128, 1024])\n",
      "Seq2Seq hidden: torch.Size([4, 128, 1024])\n",
      "Seq2Seq hidden: torch.Size([4, 128, 1024])\n",
      "Seq2Seq hidden: torch.Size([4, 128, 1024])\n",
      "Seq2Seq hidden: torch.Size([4, 128, 1024])\n",
      "Seq2Seq hidden: torch.Size([4, 128, 1024])\n",
      "Seq2Seq hidden: torch.Size([4, 128, 1024])\n",
      "Seq2Seq hidden: torch.Size([4, 128, 1024])\n",
      "Seq2Seq hidden: torch.Size([4, 128, 1024])\n",
      "Seq2Seq hidden: torch.Size([4, 128, 1024])\n",
      "Seq2Seq hidden: torch.Size([4, 128, 1024])\n",
      "Seq2Seq hidden: torch.Size([4, 128, 1024])\n",
      "Seq2Seq hidden: torch.Size([4, 128, 1024])\n",
      "Seq2Seq hidden: torch.Size([4, 128, 1024])\n",
      "Seq2Seq hidden: torch.Size([4, 128, 1024])\n",
      "Seq2Seq hidden: torch.Size([4, 128, 1024])\n",
      "Seq2Seq hidden: torch.Size([4, 128, 1024])\n",
      "Seq2Seq hidden: torch.Size([4, 128, 1024])\n",
      "Seq2Seq hidden: torch.Size([4, 128, 1024])\n",
      "Seq2Seq hidden: torch.Size([4, 128, 1024])\n",
      "Seq2Seq hidden: torch.Size([4, 128, 1024])\n",
      "Seq2Seq hidden: torch.Size([4, 128, 1024])\n",
      "Seq2Seq hidden: torch.Size([4, 128, 1024])\n",
      "Seq2Seq hidden: torch.Size([4, 128, 1024])\n",
      "Seq2Seq hidden: torch.Size([4, 128, 1024])\n",
      "Seq2Seq hidden: torch.Size([4, 128, 1024])\n",
      "Seq2Seq hidden: torch.Size([4, 128, 1024])\n",
      "Seq2Seq hidden: torch.Size([4, 128, 1024])\n",
      "Seq2Seq hidden: torch.Size([4, 128, 1024])\n",
      "Seq2Seq hidden: torch.Size([4, 128, 1024])\n",
      "Seq2Seq hidden: torch.Size([4, 128, 1024])\n",
      "Seq2Seq hidden: torch.Size([4, 128, 1024])\n"
     ]
    },
    {
     "ename": "KeyboardInterrupt",
     "evalue": "",
     "output_type": "error",
     "traceback": [
      "\u001b[1;31m---------------------------------------------------------------------------\u001b[0m",
      "\u001b[1;31mKeyboardInterrupt\u001b[0m                         Traceback (most recent call last)",
      "\u001b[1;32m<ipython-input-15-04a6ffb3532c>\u001b[0m in \u001b[0;36m<module>\u001b[1;34m\u001b[0m\n\u001b[0;32m      1\u001b[0m \u001b[0mN_EPOCHS\u001b[0m \u001b[1;33m=\u001b[0m \u001b[1;36m200\u001b[0m\u001b[1;33m\u001b[0m\u001b[1;33m\u001b[0m\u001b[0m\n\u001b[0;32m      2\u001b[0m \u001b[0mCLIP\u001b[0m \u001b[1;33m=\u001b[0m \u001b[1;36m1\u001b[0m\u001b[1;33m\u001b[0m\u001b[1;33m\u001b[0m\u001b[0m\n\u001b[1;32m----> 3\u001b[1;33m \u001b[0mtrainer\u001b[0m\u001b[1;33m.\u001b[0m\u001b[0mepoch\u001b[0m\u001b[1;33m(\u001b[0m\u001b[0mn_epochs\u001b[0m\u001b[1;33m=\u001b[0m\u001b[0mN_EPOCHS\u001b[0m\u001b[1;33m,\u001b[0m \u001b[0mclip\u001b[0m\u001b[1;33m=\u001b[0m\u001b[0mCLIP\u001b[0m\u001b[1;33m,\u001b[0m \u001b[0mmodel_name\u001b[0m\u001b[1;33m=\u001b[0m\u001b[1;34m'seq2seq-gru.pt'\u001b[0m\u001b[1;33m)\u001b[0m\u001b[1;33m\u001b[0m\u001b[1;33m\u001b[0m\u001b[0m\n\u001b[0m",
      "\u001b[1;32m~\\Jupyter-Projects\\Luodingo\\sequence_model_trainer.py\u001b[0m in \u001b[0;36mepoch\u001b[1;34m(self, n_epochs, clip, model_name)\u001b[0m\n\u001b[0;32m     97\u001b[0m         \u001b[1;32mfor\u001b[0m \u001b[0mepoch\u001b[0m \u001b[1;32min\u001b[0m \u001b[0mrange\u001b[0m\u001b[1;33m(\u001b[0m\u001b[0mn_epochs\u001b[0m\u001b[1;33m)\u001b[0m\u001b[1;33m:\u001b[0m\u001b[1;33m\u001b[0m\u001b[1;33m\u001b[0m\u001b[0m\n\u001b[0;32m     98\u001b[0m             \u001b[0mstart_time\u001b[0m \u001b[1;33m=\u001b[0m \u001b[0mtime\u001b[0m\u001b[1;33m.\u001b[0m\u001b[0mtime\u001b[0m\u001b[1;33m(\u001b[0m\u001b[1;33m)\u001b[0m\u001b[1;33m\u001b[0m\u001b[1;33m\u001b[0m\u001b[0m\n\u001b[1;32m---> 99\u001b[1;33m             \u001b[0mtrain_loss\u001b[0m \u001b[1;33m=\u001b[0m \u001b[0mself\u001b[0m\u001b[1;33m.\u001b[0m\u001b[0mtrain\u001b[0m\u001b[1;33m(\u001b[0m\u001b[0mclip\u001b[0m\u001b[1;33m)\u001b[0m\u001b[1;33m\u001b[0m\u001b[1;33m\u001b[0m\u001b[0m\n\u001b[0m\u001b[0;32m    100\u001b[0m             \u001b[0mvalid_loss\u001b[0m \u001b[1;33m=\u001b[0m \u001b[0mself\u001b[0m\u001b[1;33m.\u001b[0m\u001b[0mevaluate\u001b[0m\u001b[1;33m(\u001b[0m\u001b[1;33m)\u001b[0m\u001b[1;33m\u001b[0m\u001b[1;33m\u001b[0m\u001b[0m\n\u001b[0;32m    101\u001b[0m             \u001b[0mepoch_mins\u001b[0m\u001b[1;33m,\u001b[0m \u001b[0mepoch_secs\u001b[0m \u001b[1;33m=\u001b[0m \u001b[0m_epoch_time\u001b[0m\u001b[1;33m(\u001b[0m\u001b[0mstart_time\u001b[0m\u001b[1;33m)\u001b[0m\u001b[1;33m\u001b[0m\u001b[1;33m\u001b[0m\u001b[0m\n",
      "\u001b[1;32m~\\Jupyter-Projects\\Luodingo\\sequence_model_trainer.py\u001b[0m in \u001b[0;36mtrain\u001b[1;34m(self, clip)\u001b[0m\n\u001b[0;32m     53\u001b[0m \u001b[1;33m\u001b[0m\u001b[0m\n\u001b[0;32m     54\u001b[0m             \u001b[0mloss\u001b[0m \u001b[1;33m=\u001b[0m \u001b[0mself\u001b[0m\u001b[1;33m.\u001b[0m\u001b[0mcriterion\u001b[0m\u001b[1;33m(\u001b[0m\u001b[0mprediction\u001b[0m\u001b[1;33m,\u001b[0m \u001b[0mtrg\u001b[0m\u001b[1;33m)\u001b[0m\u001b[1;33m\u001b[0m\u001b[1;33m\u001b[0m\u001b[0m\n\u001b[1;32m---> 55\u001b[1;33m             \u001b[0mloss\u001b[0m\u001b[1;33m.\u001b[0m\u001b[0mbackward\u001b[0m\u001b[1;33m(\u001b[0m\u001b[1;33m)\u001b[0m\u001b[1;33m\u001b[0m\u001b[1;33m\u001b[0m\u001b[0m\n\u001b[0m\u001b[0;32m     56\u001b[0m             \u001b[0mtorch\u001b[0m\u001b[1;33m.\u001b[0m\u001b[0mnn\u001b[0m\u001b[1;33m.\u001b[0m\u001b[0mutils\u001b[0m\u001b[1;33m.\u001b[0m\u001b[0mclip_grad_norm_\u001b[0m\u001b[1;33m(\u001b[0m\u001b[0mself\u001b[0m\u001b[1;33m.\u001b[0m\u001b[0mmodel\u001b[0m\u001b[1;33m.\u001b[0m\u001b[0mparameters\u001b[0m\u001b[1;33m(\u001b[0m\u001b[1;33m)\u001b[0m\u001b[1;33m,\u001b[0m \u001b[0mclip\u001b[0m\u001b[1;33m)\u001b[0m\u001b[1;33m\u001b[0m\u001b[1;33m\u001b[0m\u001b[0m\n\u001b[0;32m     57\u001b[0m             \u001b[0mself\u001b[0m\u001b[1;33m.\u001b[0m\u001b[0moptimizer\u001b[0m\u001b[1;33m.\u001b[0m\u001b[0mstep\u001b[0m\u001b[1;33m(\u001b[0m\u001b[1;33m)\u001b[0m\u001b[1;33m\u001b[0m\u001b[1;33m\u001b[0m\u001b[0m\n",
      "\u001b[1;32m~\\AppData\\Local\\Continuum\\anaconda3\\lib\\site-packages\\torch\\tensor.py\u001b[0m in \u001b[0;36mbackward\u001b[1;34m(self, gradient, retain_graph, create_graph)\u001b[0m\n\u001b[0;32m    193\u001b[0m                 \u001b[0mproducts\u001b[0m\u001b[1;33m.\u001b[0m \u001b[0mDefaults\u001b[0m \u001b[0mto\u001b[0m\u001b[0;31m \u001b[0m\u001b[0;31m`\u001b[0m\u001b[0;31m`\u001b[0m\u001b[1;32mFalse\u001b[0m\u001b[0;31m`\u001b[0m\u001b[0;31m`\u001b[0m\u001b[1;33m.\u001b[0m\u001b[1;33m\u001b[0m\u001b[1;33m\u001b[0m\u001b[0m\n\u001b[0;32m    194\u001b[0m         \"\"\"\n\u001b[1;32m--> 195\u001b[1;33m         \u001b[0mtorch\u001b[0m\u001b[1;33m.\u001b[0m\u001b[0mautograd\u001b[0m\u001b[1;33m.\u001b[0m\u001b[0mbackward\u001b[0m\u001b[1;33m(\u001b[0m\u001b[0mself\u001b[0m\u001b[1;33m,\u001b[0m \u001b[0mgradient\u001b[0m\u001b[1;33m,\u001b[0m \u001b[0mretain_graph\u001b[0m\u001b[1;33m,\u001b[0m \u001b[0mcreate_graph\u001b[0m\u001b[1;33m)\u001b[0m\u001b[1;33m\u001b[0m\u001b[1;33m\u001b[0m\u001b[0m\n\u001b[0m\u001b[0;32m    196\u001b[0m \u001b[1;33m\u001b[0m\u001b[0m\n\u001b[0;32m    197\u001b[0m     \u001b[1;32mdef\u001b[0m \u001b[0mregister_hook\u001b[0m\u001b[1;33m(\u001b[0m\u001b[0mself\u001b[0m\u001b[1;33m,\u001b[0m \u001b[0mhook\u001b[0m\u001b[1;33m)\u001b[0m\u001b[1;33m:\u001b[0m\u001b[1;33m\u001b[0m\u001b[1;33m\u001b[0m\u001b[0m\n",
      "\u001b[1;32m~\\AppData\\Local\\Continuum\\anaconda3\\lib\\site-packages\\torch\\autograd\\__init__.py\u001b[0m in \u001b[0;36mbackward\u001b[1;34m(tensors, grad_tensors, retain_graph, create_graph, grad_variables)\u001b[0m\n\u001b[0;32m     97\u001b[0m     Variable._execution_engine.run_backward(\n\u001b[0;32m     98\u001b[0m         \u001b[0mtensors\u001b[0m\u001b[1;33m,\u001b[0m \u001b[0mgrad_tensors\u001b[0m\u001b[1;33m,\u001b[0m \u001b[0mretain_graph\u001b[0m\u001b[1;33m,\u001b[0m \u001b[0mcreate_graph\u001b[0m\u001b[1;33m,\u001b[0m\u001b[1;33m\u001b[0m\u001b[1;33m\u001b[0m\u001b[0m\n\u001b[1;32m---> 99\u001b[1;33m         allow_unreachable=True)  # allow_unreachable flag\n\u001b[0m\u001b[0;32m    100\u001b[0m \u001b[1;33m\u001b[0m\u001b[0m\n\u001b[0;32m    101\u001b[0m \u001b[1;33m\u001b[0m\u001b[0m\n",
      "\u001b[1;31mKeyboardInterrupt\u001b[0m: "
     ]
    }
   ],
   "source": [
    "N_EPOCHS = 200\n",
    "CLIP = 1\n",
    "trainer.epoch(n_epochs=N_EPOCHS, clip=CLIP, model_name='seq2seq-gru.pt')"
   ]
  },
  {
   "cell_type": "code",
   "execution_count": null,
   "metadata": {},
   "outputs": [],
   "source": []
  }
 ],
 "metadata": {
  "kernelspec": {
   "display_name": "Python 3",
   "language": "python",
   "name": "python3"
  },
  "language_info": {
   "codemirror_mode": {
    "name": "ipython",
    "version": 3
   },
   "file_extension": ".py",
   "mimetype": "text/x-python",
   "name": "python",
   "nbconvert_exporter": "python",
   "pygments_lexer": "ipython3",
   "version": "3.7.3"
  }
 },
 "nbformat": 4,
 "nbformat_minor": 2
}
