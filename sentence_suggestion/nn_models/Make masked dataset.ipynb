{
 "cells": [
  {
   "cell_type": "code",
   "execution_count": 1,
   "metadata": {},
   "outputs": [],
   "source": [
    "path_woz = 'C:\\\\Users\\\\under\\\\Datasets\\\\Conversations\\\\MULTIWOZ2.1\\\\MULTIWOZ2.1\\\\data.json'\n",
    "path_ms_movie = 'C:\\\\Users\\\\under\\\\Datasets\\\\Conversations\\\\Microsoft Challenge\\\\movie_all.tsv'\n",
    "path_ms_restaurant = 'C:\\\\Users\\\\under\\\\Datasets\\\\Conversations\\\\Microsoft Challenge\\\\restaurant_all.tsv'\n",
    "path_ms_taxi = 'C:\\\\Users\\\\under\\\\Datasets\\\\Conversations\\\\Microsoft Challenge\\\\taxi_all.tsv'"
   ]
  },
  {
   "cell_type": "code",
   "execution_count": 2,
   "metadata": {},
   "outputs": [],
   "source": [
    "import pandas as pd\n",
    "import matplotlib.pyplot as plt\n",
    "import random\n",
    "from utils import data\n",
    "from utils.mask import MaskCorpus\n",
    "%load_ext autoreload\n",
    "%autoreload 2"
   ]
  },
  {
   "cell_type": "code",
   "execution_count": 3,
   "metadata": {},
   "outputs": [
    {
     "data": {
      "text/plain": [
       "(74685, 1)"
      ]
     },
     "execution_count": 3,
     "metadata": {},
     "output_type": "execute_result"
    }
   ],
   "source": [
    "df = pd.read_csv(path_ms_movie, sep='\\t', usecols=['Message.Text'])\n",
    "df_temp = pd.read_csv(path_ms_restaurant, sep='\\t', usecols=['Message.Text'])\n",
    "df = pd.concat([df,df_temp],axis=0)\n",
    "df_temp = pd.read_csv(path_ms_taxi, sep='\\t', usecols=['Message.Text'])\n",
    "df = pd.concat([df,df_temp],axis=0)\n",
    "df = df.dropna()\n",
    "df.shape"
   ]
  },
  {
   "cell_type": "code",
   "execution_count": 4,
   "metadata": {},
   "outputs": [
    {
     "name": "stdout",
     "output_type": "stream",
     "text": [
      "# of sentences between 5 and 15 words in movie: 34105\n"
     ]
    },
    {
     "data": {
      "image/png": "[encoded data removed]",
      "text/plain": [
       "<Figure size 432x288 with 1 Axes>"
      ]
     },
     "metadata": {
      "needs_background": "light"
     },
     "output_type": "display_data"
    }
   ],
   "source": [
    "df['Message.Text'].str.split(' ').apply(len).hist(bins=200)\n",
    "plt.xlim(0,50)\n",
    "print('# of sentences between 5 and 15 words in movie:', \n",
    "      df[(df['Message.Text'].str.split(' ').apply(len)>=5) & (df['Message.Text'].str.split(' ').apply(len)<=15)].shape[0])"
   ]
  },
  {
   "cell_type": "code",
   "execution_count": 5,
   "metadata": {
    "scrolled": true
   },
   "outputs": [
    {
     "name": "stderr",
     "output_type": "stream",
     "text": [
      "C:\\Users\\under\\AppData\\Local\\Continuum\\anaconda3\\lib\\site-packages\\ipykernel_launcher.py:2: SettingWithCopyWarning: \n",
      "A value is trying to be set on a copy of a slice from a DataFrame.\n",
      "Try using .loc[row_indexer,col_indexer] = value instead\n",
      "\n",
      "See the caveats in the documentation: http://pandas.pydata.org/pandas-docs/stable/indexing.html#indexing-view-versus-copy\n",
      "  \n"
     ]
    }
   ],
   "source": [
    "df_candidates = df[(df['Message.Text'].str.split(' ').apply(len)>=5) & (df['Message.Text'].str.split(' ').apply(len)<=15)]\n",
    "df_candidates['id'] = df_candidates.reset_index().index"
   ]
  },
  {
   "cell_type": "code",
   "execution_count": 6,
   "metadata": {},
   "outputs": [],
   "source": [
    "keep_tag = ['ADJ', 'VERB', 'NOUN', 'PROPN', 'PRON', 'ADV']\n",
    "keep_word = ['Why', 'What', 'Who', 'Where', 'When', 'How', '?']"
   ]
  },
  {
   "cell_type": "code",
   "execution_count": 7,
   "metadata": {},
   "outputs": [
    {
     "name": "stdout",
     "output_type": "stream",
     "text": [
      "Already downloaded a model for the 'en' language\n"
     ]
    }
   ],
   "source": [
    "mask_train = MaskCorpus(\n",
    "                corpus=df_candidates['Message.Text'].iloc[:10000],\n",
    "                idx=df_candidates['id'].iloc[:10000],\n",
    "                keep_tags=keep_tag,\n",
    "                keep_words=keep_word\n",
    "            )\n",
    "\n",
    "train = mask_train.generate_corpus()"
   ]
  },
  {
   "cell_type": "code",
   "execution_count": 8,
   "metadata": {},
   "outputs": [
    {
     "data": {
      "text/plain": [
       "(10,\n",
       " '[MASK] BATMAN Night? a time range [MASK] mind ?',\n",
       " 'do you have a time range in mind ?')"
      ]
     },
     "execution_count": 8,
     "metadata": {},
     "output_type": "execute_result"
    }
   ],
   "source": [
    "train[10]"
   ]
  },
  {
   "cell_type": "code",
   "execution_count": 123,
   "metadata": {},
   "outputs": [
    {
     "name": "stdout",
     "output_type": "stream",
     "text": [
      "Already downloaded a model for the 'en' language\n"
     ]
    }
   ],
   "source": [
    "mask_val = MaskCorpus(\n",
    "            corpus=df_candidates['Message.Text'].iloc[:10000],\n",
    "            idx=df_candidates['id'].iloc[:10000],\n",
    "            keep_tags=keep_tag,\n",
    "            keep_words=keep_word\n",
    "        )\n",
    "\n",
    "val = mask_val.generate_corpus()"
   ]
  },
  {
   "cell_type": "code",
   "execution_count": 124,
   "metadata": {},
   "outputs": [
    {
     "data": {
      "text/plain": [
       "(10,\n",
       " '[MASK] chicago have [MASK] time [MASK] [MASK] mind ?',\n",
       " 'do you have a time range in mind ?')"
      ]
     },
     "execution_count": 124,
     "metadata": {},
     "output_type": "execute_result"
    }
   ],
   "source": [
    "val[10]"
   ]
  },
  {
   "cell_type": "code",
   "execution_count": 125,
   "metadata": {},
   "outputs": [
    {
     "name": "stdout",
     "output_type": "stream",
     "text": [
      "Already downloaded a model for the 'en' language\n"
     ]
    }
   ],
   "source": [
    "mask_test = MaskCorpus(\n",
    "            corpus=df_candidates['Message.Text'].iloc[:10000],\n",
    "            idx=df_candidates['id'].iloc[:10000],\n",
    "            keep_tags=keep_tag,\n",
    "            keep_words=keep_word\n",
    "        )\n",
    "\n",
    "test = mask_test.generate_corpus()"
   ]
  },
  {
   "cell_type": "code",
   "execution_count": 126,
   "metadata": {},
   "outputs": [
    {
     "data": {
      "text/plain": [
       "(10,\n",
       " '[MASK] you have [MASK] [MASK] range [MASK] mind ?',\n",
       " 'do you have a time range in mind ?')"
      ]
     },
     "execution_count": 126,
     "metadata": {},
     "output_type": "execute_result"
    }
   ],
   "source": [
    "test[10]"
   ]
  },
  {
   "cell_type": "code",
   "execution_count": 130,
   "metadata": {},
   "outputs": [],
   "source": [
    "# export train set\n",
    "with open(r'C:\\\\Users\\\\under\\\\Datasets\\\\Conversations\\\\Microsoft Challenge\\\\Masked Corpus\\\\search_space.csv', 'w', encoding=\"utf-8\", newline='\\n') as f:\n",
    "    df_candidates.iloc[:,:10000].to_csv(f, index=False, header=True)"
   ]
  },
  {
   "cell_type": "code",
   "execution_count": 131,
   "metadata": {},
   "outputs": [],
   "source": [
    "# export train set\n",
    "df_train = pd.DataFrame(train, columns=['id', 'masked', 'original'])\n",
    "with open(r'C:\\\\Users\\\\under\\\\Datasets\\\\Conversations\\\\Microsoft Challenge\\\\Masked Corpus\\\\train.csv', 'w', encoding=\"utf-8\", newline='\\n') as f:\n",
    "    df_train.to_csv(f, index=False, header=True)"
   ]
  },
  {
   "cell_type": "code",
   "execution_count": 133,
   "metadata": {},
   "outputs": [],
   "source": [
    "# export validation set\n",
    "df_val = pd.DataFrame(val, columns=['id', 'masked', 'original'])\n",
    "with open(r'C:\\\\Users\\\\under\\\\Datasets\\\\Conversations\\\\Microsoft Challenge\\\\Masked Corpus\\\\val.csv', 'w', encoding=\"utf-8\", newline='\\n') as f:\n",
    "    df_val.to_csv(f, index=False, header=True)"
   ]
  },
  {
   "cell_type": "code",
   "execution_count": 134,
   "metadata": {},
   "outputs": [],
   "source": [
    "# export test set\n",
    "df_test = pd.DataFrame(test, columns=['id', 'masked', 'original'])\n",
    "with open(r'C:\\\\Users\\\\under\\\\Datasets\\\\Conversations\\\\Microsoft Challenge\\\\Masked Corpus\\\\test.csv', 'w', encoding=\"utf-8\", newline='\\n') as f:\n",
    "    df_test.to_csv(f, index=False, header=True)"
   ]
  },
  {
   "cell_type": "code",
   "execution_count": null,
   "metadata": {},
   "outputs": [],
   "source": []
  }
 ],
 "metadata": {
  "kernelspec": {
   "display_name": "Python 3",
   "language": "python",
   "name": "python3"
  },
  "language_info": {
   "codemirror_mode": {
    "name": "ipython",
    "version": 3
   },
   "file_extension": ".py",
   "mimetype": "text/x-python",
   "name": "python",
   "nbconvert_exporter": "python",
   "pygments_lexer": "ipython3",
   "version": "3.7.3"
  }
 },
 "nbformat": 4,
 "nbformat_minor": 2
}
