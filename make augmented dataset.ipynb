{
 "cells": [
  {
   "cell_type": "code",
   "execution_count": 1,
   "metadata": {},
   "outputs": [],
   "source": [
    "url='https://raw.githubusercontent.com/box-key/Luodingo/master/Datasets/data_tolokers.csv'"
   ]
  },
  {
   "cell_type": "code",
   "execution_count": 2,
   "metadata": {},
   "outputs": [
    {
     "name": "stderr",
     "output_type": "stream",
     "text": [
      "[nltk_data] Downloading package stopwords to\n",
      "[nltk_data]     C:\\Users\\under\\AppData\\Roaming\\nltk_data...\n",
      "[nltk_data]   Package stopwords is already up-to-date!\n"
     ]
    }
   ],
   "source": [
    "from utils import fetch_csv_from_git\n",
    "from utils import clean_corpus\n",
    "from utils import tokenize\n",
    "from utils import data\n",
    "import pandas as pd"
   ]
  },
  {
   "cell_type": "code",
   "execution_count": 10,
   "metadata": {},
   "outputs": [],
   "source": [
    "df = fetch_csv_from_git(url)\n",
    "df['text'] = df['text'].apply(clean_corpus, keep_puncs='?')\n",
    "df['text'] = df['text'].apply(tokenize)"
   ]
  },
  {
   "cell_type": "code",
   "execution_count": 11,
   "metadata": {},
   "outputs": [],
   "source": [
    "train, val, test = data.generate_dataset(df, min_word=3, max_word=10, num_data=10, train_ratio=0.6, val_ratio=0.2, test_ratio=0.2)"
   ]
  },
  {
   "cell_type": "code",
   "execution_count": 15,
   "metadata": {},
   "outputs": [],
   "source": [
    "# export train set\n",
    "df_train = pd.DataFrame(train, columns=['keyword', 'label'])\n",
    "with open(r'C:\\\\Users\\\\under\\\\Datasets\\\\Conversations\\\\Tolokers_augmented\\\\train.csv', 'w', encoding=\"utf-8\", newline='\\n') as f:\n",
    "    df_train.to_csv(f, index=False, header=True)"
   ]
  },
  {
   "cell_type": "code",
   "execution_count": 16,
   "metadata": {},
   "outputs": [],
   "source": [
    "# export validation set\n",
    "df_val = pd.DataFrame(val, columns=['keyword', 'label'])\n",
    "with open(r'C:\\\\Users\\\\under\\\\Datasets\\\\Conversations\\\\Tolokers_augmented\\\\val.csv', 'w', encoding=\"utf-8\", newline='\\n') as f:\n",
    "    df_val.to_csv(f, index=False, header=True)"
   ]
  },
  {
   "cell_type": "code",
   "execution_count": 17,
   "metadata": {},
   "outputs": [],
   "source": [
    "# export test set\n",
    "df_test = pd.DataFrame(test, columns=['keyword', 'label'])\n",
    "with open(r'C:\\\\Users\\\\under\\\\Datasets\\\\Conversations\\\\Tolokers_augmented\\\\test.csv', 'w', encoding=\"utf-8\", newline='\\n') as f:\n",
    "    df_test.to_csv(f, index=False, header=True)"
   ]
  },
  {
   "cell_type": "code",
   "execution_count": null,
   "metadata": {},
   "outputs": [],
   "source": []
  }
 ],
 "metadata": {
  "kernelspec": {
   "display_name": "Python 3",
   "language": "python",
   "name": "python3"
  },
  "language_info": {
   "codemirror_mode": {
    "name": "ipython",
    "version": 3
   },
   "file_extension": ".py",
   "mimetype": "text/x-python",
   "name": "python",
   "nbconvert_exporter": "python",
   "pygments_lexer": "ipython3",
   "version": "3.7.3"
  }
 },
 "nbformat": 4,
 "nbformat_minor": 2
}
