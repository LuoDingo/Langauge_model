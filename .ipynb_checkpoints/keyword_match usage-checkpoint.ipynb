{
 "cells": [
  {
   "cell_type": "code",
   "execution_count": 2,
   "metadata": {},
   "outputs": [],
   "source": [
    "import keyword_match as km"
   ]
  },
  {
   "cell_type": "code",
   "execution_count": 10,
   "metadata": {},
   "outputs": [],
   "source": [
    "url='https://raw.githubusercontent.com/box-key/Luodingo/master/Datasets/data_tolokers.csv'\n",
    "\n",
    "search_space = km.fetchCSVFromGit(url=url, index_col=0)"
   ]
  },
  {
   "cell_type": "code",
   "execution_count": 6,
   "metadata": {},
   "outputs": [
    {
     "name": "stdout",
     "output_type": "stream",
     "text": [
      "Enter keywords separated by space: when birthday\n"
     ]
    }
   ],
   "source": [
    "keywords = km.takeKeywords()"
   ]
  },
  {
   "cell_type": "code",
   "execution_count": 11,
   "metadata": {},
   "outputs": [
    {
     "data": {
      "text/plain": [
       "[('when is your birthday', 76, 32506),\n",
       " ('Happy birthday!', 74, 31360),\n",
       " ('what is your birthday?', 65, 37152)]"
      ]
     },
     "execution_count": 11,
     "metadata": {},
     "output_type": "execute_result"
    }
   ],
   "source": [
    "km.selectKBestMatches(keywords=keywords, \\\n",
    "                      target_space=search_space, \\\n",
    "                      max_candidate=100, \\\n",
    "                      k=3, \\\n",
    "                      scoring_method='ratio')"
   ]
  },
  {
   "cell_type": "code",
   "execution_count": null,
   "metadata": {},
   "outputs": [],
   "source": []
  }
 ],
 "metadata": {
  "kernelspec": {
   "display_name": "Python 3",
   "language": "python",
   "name": "python3"
  },
  "language_info": {
   "codemirror_mode": {
    "name": "ipython",
    "version": 3
   },
   "file_extension": ".py",
   "mimetype": "text/x-python",
   "name": "python",
   "nbconvert_exporter": "python",
   "pygments_lexer": "ipython3",
   "version": "3.7.3"
  }
 },
 "nbformat": 4,
 "nbformat_minor": 2
}
